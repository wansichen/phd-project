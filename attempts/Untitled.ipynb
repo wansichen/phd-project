{
 "cells": [
  {
   "cell_type": "code",
   "execution_count": 1,
   "id": "68ece0fc",
   "metadata": {},
   "outputs": [
    {
     "data": {
      "text/plain": [
       "4.279949922260318"
      ]
     },
     "execution_count": 1,
     "metadata": {},
     "output_type": "execute_result"
    }
   ],
   "source": [
    "(784/10)**(1/3)"
   ]
  },
  {
   "cell_type": "code",
   "execution_count": 4,
   "id": "79ed2699",
   "metadata": {},
   "outputs": [
    {
     "data": {
      "text/plain": [
       "183.184"
      ]
     },
     "execution_count": 4,
     "metadata": {},
     "output_type": "execute_result"
    }
   ],
   "source": [
    "42.8*4.28"
   ]
  },
  {
   "cell_type": "code",
   "execution_count": null,
   "id": "27d9b393",
   "metadata": {},
   "outputs": [],
   "source": []
  }
 ],
 "metadata": {
  "kernelspec": {
   "display_name": "Python 3 (ipykernel)",
   "language": "python",
   "name": "python3"
  },
  "language_info": {
   "codemirror_mode": {
    "name": "ipython",
    "version": 3
   },
   "file_extension": ".py",
   "mimetype": "text/x-python",
   "name": "python",
   "nbconvert_exporter": "python",
   "pygments_lexer": "ipython3",
   "version": "3.10.6"
  }
 },
 "nbformat": 4,
 "nbformat_minor": 5
}
